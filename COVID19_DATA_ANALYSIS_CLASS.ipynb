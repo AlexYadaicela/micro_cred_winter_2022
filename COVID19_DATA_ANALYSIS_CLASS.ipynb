{
  "nbformat": 4,
  "nbformat_minor": 0,
  "metadata": {
    "colab": {
      "name": " COVID19_DATA_ANALYSIS_CLASS.ipynb",
      "provenance": [],
      "collapsed_sections": [],
      "include_colab_link": true
    },
    "kernelspec": {
      "name": "python3",
      "display_name": "Python 3"
    }
  },
  "cells": [
    {
      "cell_type": "markdown",
      "metadata": {
        "id": "view-in-github",
        "colab_type": "text"
      },
      "source": [
        "<a href=\"https://colab.research.google.com/github/AlexYadaicela/micro_cred_winter_2022/blob/main/COVID19_DATA_ANALYSIS_CLASS.ipynb\" target=\"_parent\"><img src=\"https://colab.research.google.com/assets/colab-badge.svg\" alt=\"Open In Colab\"/></a>"
      ]
    },
    {
      "cell_type": "markdown",
      "metadata": {
        "id": "9jvXpX2bbIFF"
      },
      "source": [
        "# COVID 19 Data Analysis"
      ]
    },
    {
      "cell_type": "markdown",
      "metadata": {
        "id": "RSvGZmxBa_Gk"
      },
      "source": [
        "**Description:** This script will read the latest data from the New York Times' county-level COVID-19 database at https://github.com/nytimes/covid-19-data/blob/master/us-counties.csv, filter the data for a chosen county in a chosen state, calculate the daily count of new cases and new deaths, print the most recent 28 days' worth of data for the selected county, and save the county's data for all dates to a comma-separated value (.csv) file on your computer. The printed data can be copied and pasted directly into a spreadsheet for further analysis and visualization.\n",
        "\n",
        "**Note:** For information about the data, see https://github.com/nytimes/covid-19-data.\n",
        "\n",
        "**Note:** After you have run the script one time in a given Anaconda environment, you may reduce the script's execution time by adding a `#` in front of `pip install pandas`. For example, `#pip install pandas` instead of `pip install pandas`. The `#` will tell Python to skip the code without running it."
      ]
    },
    {
      "cell_type": "markdown",
      "metadata": {
        "id": "ji_HknaobZJh"
      },
      "source": [
        "# Task 1 : Environment Set up"
      ]
    },
    {
      "cell_type": "markdown",
      "metadata": {
        "id": "q2y0bY0XbhNZ"
      },
      "source": [
        ":Import all required libraries that are needed for data analysis"
      ]
    },
    {
      "cell_type": "code",
      "source": [
        "import pandas as pd\n",
        "import numpy as np \n",
        "import seaborn as sns\n",
        "from matplotlib import pyplot as plt "
      ],
      "metadata": {
        "id": "Cy_qKrJDv2lA"
      },
      "execution_count": 2,
      "outputs": []
    },
    {
      "cell_type": "markdown",
      "metadata": {
        "id": "vgt8s61dbueM"
      },
      "source": [
        "# Task 2 :  Data Collection"
      ]
    },
    {
      "cell_type": "markdown",
      "metadata": {
        "id": "CEc5pqrkbxcX"
      },
      "source": [
        "Use nytimes github repository as a data source to collect the covid 19 data in real time and ingest it into colab notebook for data anlysis purpose"
      ]
    },
    {
      "cell_type": "code",
      "source": [
        "# df = pd.read_csv('https://raw.githubusercontent.com/nytimes/covid-19-data/master/us-counties.csv')"
      ],
      "metadata": {
        "id": "Z-uhPy7zzeQM"
      },
      "execution_count": null,
      "outputs": []
    },
    {
      "cell_type": "markdown",
      "metadata": {
        "id": "dXToiyPccf4h"
      },
      "source": [
        "# Task 3 : Data Wrangling and EDA (Exploratory Data Analysis)"
      ]
    },
    {
      "cell_type": "code",
      "source": [
        "nyc= df[(df['state']=='New York')& (df['county'] == 'New York City')]\n",
        "sns.lineplot(data=nyc,x='date',y='cases')"
      ],
      "metadata": {
        "id": "ZKc3MNzkFa27"
      },
      "execution_count": null,
      "outputs": []
    },
    {
      "cell_type": "code",
      "source": [
        "sns.lineplot(data=nyc,x='date',y='deaths')"
      ],
      "metadata": {
        "id": "P3RqTP3MMPQF"
      },
      "execution_count": null,
      "outputs": []
    },
    {
      "cell_type": "code",
      "source": [
        "#calculate the daily count of new cases and new deaths\n",
        "print('new cases: ', nyc['cases'].tail(30).sum())\n",
        "print('new deaths:', nyc['deaths'].tail(30).sum())"
      ],
      "metadata": {
        "id": "9ptttfDj6cSs"
      },
      "execution_count": null,
      "outputs": []
    },
    {
      "cell_type": "markdown",
      "metadata": {
        "id": "IKuLfv3SF27O"
      },
      "source": [
        "# Task4: Understand NY covid 19 data in last 30 days"
      ]
    },
    {
      "cell_type": "code",
      "source": [
        "df_nyc=nyc.dropna(axis=1)\n",
        "df_nyc.tail(30)"
      ],
      "metadata": {
        "id": "V-kN7AYKz4XX"
      },
      "execution_count": null,
      "outputs": []
    },
    {
      "cell_type": "markdown",
      "metadata": {
        "id": "PtjNZZmOdAhy"
      },
      "source": [
        "# Comparing Covid 19 data with different states"
      ]
    },
    {
      "cell_type": "code",
      "source": [
        "ohio = df[(df['state']=='Ohio')& (df['county'] == 'Medina')]\n",
        "sns.lineplot(data = ohio, x = 'date' , y = 'cases')"
      ],
      "metadata": {
        "id": "cLenty7rQZNK"
      },
      "execution_count": null,
      "outputs": []
    },
    {
      "cell_type": "code",
      "source": [
        "sns.lineplot(data = ohio, x = 'date' , y = 'deaths')"
      ],
      "metadata": {
        "id": "BRkBn5R8Rlls"
      },
      "execution_count": null,
      "outputs": []
    },
    {
      "cell_type": "code",
      "source": [
        "#last 30 days\n",
        "ohio.tail(30)"
      ],
      "metadata": {
        "id": "C2L2kQfpRycZ"
      },
      "execution_count": null,
      "outputs": []
    },
    {
      "cell_type": "code",
      "source": [
        "print('new cases:', ohio['cases'].tail(30).sum()) \n",
        "print('new deaths:', ohio['deaths'].tail(30).sum())"
      ],
      "metadata": {
        "id": "XQRvJAby2Gwk"
      },
      "execution_count": null,
      "outputs": []
    },
    {
      "cell_type": "markdown",
      "metadata": {
        "id": "Hwch-J5PIHA1"
      },
      "source": [
        "# Conclusion"
      ]
    },
    {
      "cell_type": "markdown",
      "metadata": {
        "id": "q5G5KP6CINBS"
      },
      "source": [
        "Below are the conclusions:\n",
        "\n",
        "\n",
        "1.   Conclusion 1\n",
        "     >There is a rapid increase in cases for New York City reported in the initial days.The increase in cases continues throughout last reported cases. Medina is the opposite. The reported cases and deaths does not increase rapidly. \n",
        "     \n",
        "     >Deaths in New York City seem to increase in the 1000. The average deaths for New York City is around 26778 per 100000 cases. Whereas for Medina is around 172 deaths per 10000 cases. \n",
        "2.   Conclusion 2\n",
        "     >The differences in deaths and cases between NYC and Medina might result from size of population, usage of public transportation, and public spaces. \n"
      ]
    }
  ]
}