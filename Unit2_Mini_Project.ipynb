{
  "nbformat": 4,
  "nbformat_minor": 0,
  "metadata": {
    "colab": {
      "name": "Unit2_Mini_Project.ipynb",
      "provenance": [],
      "collapsed_sections": [],
      "toc_visible": true,
      "include_colab_link": true
    },
    "kernelspec": {
      "name": "python3",
      "display_name": "Python 3"
    }
  },
  "cells": [
    {
      "cell_type": "markdown",
      "metadata": {
        "id": "view-in-github",
        "colab_type": "text"
      },
      "source": [
        "<a href=\"https://colab.research.google.com/github/AlexYadaicela/micro_cred_winter_2022/blob/main/Unit2_Mini_Project.ipynb\" target=\"_parent\"><img src=\"https://colab.research.google.com/assets/colab-badge.svg\" alt=\"Open In Colab\"/></a>"
      ]
    },
    {
      "cell_type": "markdown",
      "metadata": {
        "id": "Vgs8Kp4TidFQ"
      },
      "source": [
        "# Intrdouction to Python - Mini Project"
      ]
    },
    {
      "cell_type": "markdown",
      "metadata": {
        "id": "_Hq7Ny79iwgD"
      },
      "source": [
        "#Python Project – Odd or Even\n",
        "\n",
        "Ask the user for a number. Depending on whether the number is even or odd, print out an appropriate message to the user. Hint: how does an even / odd number react differently when divided by 2?\n"
      ]
    },
    {
      "cell_type": "code",
      "metadata": {
        "id": "lotvpVpvlKsR"
      },
      "source": [
        "num=int(input('Is you number even or odd?'))\n",
        "if num%2!=0: \n",
        "  print(str(num)+' is an odd number')\n",
        "else: \n",
        "  print(str(num)+' is an even number') "
      ],
      "execution_count": null,
      "outputs": []
    },
    {
      "cell_type": "markdown",
      "metadata": {
        "id": "io_27RSlizno"
      },
      "source": [
        "# Bonus:\n",
        "\n",
        "1.\tIf the number is a multiple of 4, print out a different message.\n",
        "\n",
        "2.\tAsk the user for two numbers: one number to check (call it num) and one number to divide by (check). If check divides evenly into num, tell that to the user. If not, print a different appropriate message.\n"
      ]
    },
    {
      "cell_type": "code",
      "metadata": {
        "id": "Dh1o5cAylSHB"
      },
      "source": [
        "#1\n",
        "num=int(input('Is you number even or odd?'))\n",
        "def check(num): \n",
        "  if num%2!=0: \n",
        "    print(str(num)+' is an odd number')\n",
        "  else: \n",
        "    print(str(num)+' is an even number')\n",
        "if num%4==0: \n",
        "  check(num)\n",
        "  print(str(num)+' is multiple of 4')\n",
        "else: \n",
        "  check(num)"
      ],
      "execution_count": null,
      "outputs": []
    },
    {
      "cell_type": "code",
      "metadata": {
        "id": "vs8ppR-wlSKL"
      },
      "source": [
        "#2 \n",
        "num=int(input('What is your number to check? '))\n",
        "check=int(input('What is your number to divide it by? '))\n",
        "def result(num,check): \n",
        "  if num%check!=0: \n",
        "    print('the number does not divide evenly')\n",
        "  else: \n",
        "    print('the number divides evenly')\n",
        "result(num,check)"
      ],
      "execution_count": null,
      "outputs": []
    }
  ]
}