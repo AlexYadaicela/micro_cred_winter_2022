{
  "nbformat": 4,
  "nbformat_minor": 0,
  "metadata": {
    "colab": {
      "name": "Unit_4_Mini_project.ipynb",
      "provenance": [],
      "authorship_tag": "ABX9TyNtwitLsJE2hv8B+i9YZOQ/",
      "include_colab_link": true
    },
    "kernelspec": {
      "name": "python3",
      "display_name": "Python 3"
    },
    "language_info": {
      "name": "python"
    }
  },
  "cells": [
    {
      "cell_type": "markdown",
      "metadata": {
        "id": "view-in-github",
        "colab_type": "text"
      },
      "source": [
        "<a href=\"https://colab.research.google.com/github/AlexYadaicela/micro_cred_winter_2022/blob/main/Unit_4_Mini_project.ipynb\" target=\"_parent\"><img src=\"https://colab.research.google.com/assets/colab-badge.svg\" alt=\"Open In Colab\"/></a>"
      ]
    },
    {
      "cell_type": "markdown",
      "source": [
        "Task 1: Environment Set Up"
      ],
      "metadata": {
        "id": "mvP3gUMZBDt3"
      }
    },
    {
      "cell_type": "code",
      "execution_count": 222,
      "metadata": {
        "id": "OAe1I-3lceBH"
      },
      "outputs": [],
      "source": [
        "%matplotlib inline \n",
        "import pandas as pd \n",
        "import numpy as np \n",
        "import seaborn as sns \n",
        "import matplotlib.pyplot as plt "
      ]
    },
    {
      "cell_type": "markdown",
      "source": [
        "Task 2: Data Collection"
      ],
      "metadata": {
        "id": "2Wh0-mgXBQkY"
      }
    },
    {
      "cell_type": "code",
      "source": [
        "df=pd.read_csv('https://raw.githubusercontent.com/negojovanovich3/pythonprojects/main/diabetic_data.csv')\n",
        "df.groupby('readmitted').size()"
      ],
      "metadata": {
        "id": "qMOEvbQWcg7Q"
      },
      "execution_count": null,
      "outputs": []
    },
    {
      "cell_type": "markdown",
      "source": [
        "Task 3: Data Wrangling and EDA "
      ],
      "metadata": {
        "id": "rWgn5JVgBQhC"
      }
    },
    {
      "cell_type": "code",
      "source": [
        "##Removing rows; unlikely to comeback due to hospice or death\n",
        "df=df.loc[~df.discharge_disposition_id.isin([11,13,14,19,20,21])]"
      ],
      "metadata": {
        "id": "jo9D5Eucd6k4"
      },
      "execution_count": 225,
      "outputs": []
    },
    {
      "cell_type": "code",
      "source": [
        "#patients readmitted less than 30 days\n",
        "df['readmission']=(df.readmitted=='<30').astype('int')\n",
        "df.groupby('readmission').size()"
      ],
      "metadata": {
        "id": "C3_NP89JciZS"
      },
      "execution_count": null,
      "outputs": []
    },
    {
      "cell_type": "code",
      "source": [
        "#filling ? with na\n",
        "df=df.replace('?',np.nan)"
      ],
      "metadata": {
        "id": "j65lupbZd-7C"
      },
      "execution_count": 227,
      "outputs": []
    },
    {
      "cell_type": "code",
      "source": [
        "#numerical features \n",
        "cat_num=['time_in_hospital','num_lab_procedures','num_procedures','num_medications',\n",
        "     'number_outpatient','number_emergency','number_inpatient','number_diagnoses']\n"
      ],
      "metadata": {
        "id": "cXff78gxikiu"
      },
      "execution_count": 228,
      "outputs": []
    },
    {
      "cell_type": "code",
      "source": [
        "#categorical Features\n",
        "cols_cat=['race','gender'] \n",
        "df['race']=df['race'].fillna('UNK')"
      ],
      "metadata": {
        "id": "n__OaQU118qb"
      },
      "execution_count": 229,
      "outputs": []
    },
    {
      "cell_type": "code",
      "source": [
        "cols_cat_num=['admission_type_id','discharge_disposition_id','admission_source_id']\n",
        "df[cols_cat_num]=df[cols_cat_num].astype('str')"
      ],
      "metadata": {
        "id": "nSdwwXs81_8X"
      },
      "execution_count": 230,
      "outputs": []
    },
    {
      "cell_type": "code",
      "source": [
        "df_cat=pd.get_dummies(df[cols_cat + cols_cat_num],drop_first=True)"
      ],
      "metadata": {
        "id": "B0TYF-IalTjQ"
      },
      "execution_count": 231,
      "outputs": []
    },
    {
      "cell_type": "code",
      "source": [
        "df=pd.concat([df,df_cat],axis=1)\n",
        "cols_all_cat=list(df_cat.columns)"
      ],
      "metadata": {
        "id": "kJE-luU9tmI6"
      },
      "execution_count": 232,
      "outputs": []
    },
    {
      "cell_type": "code",
      "source": [
        "age_id={'[0-10)':0,\n",
        "        '[10-20)':10,\n",
        "        '[20-30)':20,\n",
        "        '[30-40)':30,\n",
        "        '[40-50)':40,\n",
        "        '[50-60)':50,\n",
        "        '[60-70)':60,\n",
        "        '[70-80)':70,\n",
        "        '[80-90)':80,\n",
        "        '[90-100)':90}\n",
        "df['age_group']=df.age.replace(age_id)\n",
        "cat_age=['age_group']"
      ],
      "metadata": {
        "id": "yyGD2-TK3hqX"
      },
      "execution_count": 233,
      "outputs": []
    },
    {
      "cell_type": "code",
      "source": [
        "col2use=cat_num + cols_all_cat + cat_age \n",
        "df_data=df[col2use+['readmission']]\n"
      ],
      "metadata": {
        "id": "YGJHXXLL3pwK"
      },
      "execution_count": 234,
      "outputs": []
    },
    {
      "cell_type": "code",
      "source": [
        "sns.countplot(df_data['readmission']).set_title('Readmission')"
      ],
      "metadata": {
        "id": "xmJO5L5b4soL"
      },
      "execution_count": null,
      "outputs": []
    },
    {
      "cell_type": "code",
      "source": [
        "sns.countplot(y=df_data['age_group'],hue=df_data['readmission']).set_title('Age Vs. Readmission')"
      ],
      "metadata": {
        "id": "Rffbe-F75Gm3"
      },
      "execution_count": null,
      "outputs": []
    },
    {
      "cell_type": "code",
      "source": [
        "sns.countplot(y=df['race'],hue=df_data['readmission']).set_title('Race Vs. Readmission')"
      ],
      "metadata": {
        "id": "M2Jh07eg5ua1"
      },
      "execution_count": null,
      "outputs": []
    },
    {
      "cell_type": "code",
      "source": [
        "sns.countplot(df_data['gender_Male'],hue=df_data['readmission'])"
      ],
      "metadata": {
        "id": "wppry5zG7tW5"
      },
      "execution_count": null,
      "outputs": []
    },
    {
      "cell_type": "markdown",
      "source": [
        "Task 4: Build Models"
      ],
      "metadata": {
        "id": "EPaxFZefBlGA"
      }
    },
    {
      "cell_type": "code",
      "source": [
        "from sklearn.model_selection import train_test_split\n",
        "from sklearn.linear_model import LogisticRegression\n",
        "X_train,X_test,y_train,y_test=train_test_split(df_data.drop('readmission',axis=1),df_data['readmission'],test_size=.3,random_state=420)"
      ],
      "metadata": {
        "id": "XKNtw4B49mgi"
      },
      "execution_count": 253,
      "outputs": []
    },
    {
      "cell_type": "code",
      "source": [
        "# logmodel=LogisticRegression()\n",
        "# logmodel.fit(X_train,y_train)\n",
        "\n",
        "# predic=logmodel.predict(X_test)\n",
        "# logmodel.score(X_test,y_test)"
      ],
      "metadata": {
        "id": "wDo_Eu5L-pAq"
      },
      "execution_count": null,
      "outputs": []
    },
    {
      "cell_type": "markdown",
      "source": [
        "Task 5: Classification Report/RandomForest Model"
      ],
      "metadata": {
        "id": "DVvPiseFB698"
      }
    },
    {
      "cell_type": "code",
      "source": [
        "print(classification_report(y_test,predic))"
      ],
      "metadata": {
        "id": "Ko3YIVw2B6W_"
      },
      "execution_count": null,
      "outputs": []
    },
    {
      "cell_type": "code",
      "source": [
        "from sklearn.metrics import classification_report, confusion_matrix\n",
        "from sklearn.ensemble import RandomForestClassifier\n",
        "randomforest_classifier=RandomForestClassifier(n_estimators=100,criterion='entropy')\n",
        "randomforest_classifier.fit(X_train,y_train)\n",
        "y_predict=randomforest_classifier.predict(X_test)\n",
        "cm=confusion_matrix(y_test,y_predrict)\n",
        "sns.heatmap(cm,annot=True)\n",
        "print(classification_report(y_test,y_predict))"
      ],
      "metadata": {
        "id": "6LM-1tAsCUaL"
      },
      "execution_count": 260,
      "outputs": []
    },
    {
      "cell_type": "markdown",
      "source": [
        "Task 6: KNN Model"
      ],
      "metadata": {
        "id": "ETffLNQPEclc"
      }
    },
    {
      "cell_type": "code",
      "source": [
        "from sklearn.neighbors import  KNeighborsClassifier\n",
        "# knn = KNeighborsClassifier(n_neighbors=1)"
      ],
      "metadata": {
        "id": "NU8FFZX2DrAa"
      },
      "execution_count": 261,
      "outputs": []
    },
    {
      "cell_type": "code",
      "source": [
        "knn.fit(X_train,y_train)\n",
        "pre=knn.predict(X_test)\n",
        "print(confusion_matrix(y_test,pre))"
      ],
      "metadata": {
        "id": "zDWlkQKYEb5y"
      },
      "execution_count": null,
      "outputs": []
    },
    {
      "cell_type": "code",
      "source": [
        "plt.figure(figsize=(9,9))\n",
        "sns.heatmap(confusion_matrix(y_test,pre),annot=True,fmt='.3f',linewidths=.5,square=True,cmap='Blues_r')\n",
        "plt.ylabel('Actual Label');\n",
        "plt.xlabel('Predicted Label');\n",
        "all_sample_title='Accuracy Score: {0}'.format(knn.score(X_test,y_test))\n",
        "plt.title(all_sample_title,size=15);"
      ],
      "metadata": {
        "id": "-eJY0qG4FZz3"
      },
      "execution_count": null,
      "outputs": []
    },
    {
      "cell_type": "code",
      "source": [
        "print(classification_report(y_test,pre))"
      ],
      "metadata": {
        "id": "YrPrXAYWG7Pn"
      },
      "execution_count": null,
      "outputs": []
    }
  ]
}